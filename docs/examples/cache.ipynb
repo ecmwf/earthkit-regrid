{
 "cells": [
  {
   "cell_type": "markdown",
   "id": "65c27cc6-55b9-4d36-af83-c35cbd00caf3",
   "metadata": {
    "editable": true,
    "slideshow": {
     "slide_type": ""
    },
    "tags": []
   },
   "source": [
    "## Matrix disk cache"
   ]
  },
  {
   "cell_type": "code",
   "execution_count": 1,
   "id": "64c27d94-7d5b-4a0f-9e72-708be1609527",
   "metadata": {},
   "outputs": [],
   "source": [
    "from earthkit.regrid import config, cache"
   ]
  },
  {
   "attachments": {},
   "cell_type": "raw",
   "id": "232699ed-fd27-426c-8b6b-93091b72d68d",
   "metadata": {
    "editable": true,
    "raw_mimetype": "text/restructuredtext",
    "slideshow": {
     "slide_type": ""
    },
    "tags": []
   },
   "source": [
    "earthkit-regrid uses a dedicated **directory** to store the interpolation matrices and the related index file downloaded from the remote inventory. \n",
    "\n",
    "By default this directory serves a :ref:`cache <caching>` and is **managed** (its size is checked/limited). It means if we run :func:`interpolate` again with the same input and output grid it will load the matrix from the cache instead of downloading it again. Additionally, caching offers **monitoring and disk space management**. When the cache is full, cached data is deleted according to the configuration (i.e. oldest data is deleted first).  "
   ]
  },
  {
   "cell_type": "markdown",
   "id": "3d93c85a-3c9b-4496-990d-8612fcb82fcf",
   "metadata": {
    "editable": true,
    "slideshow": {
     "slide_type": ""
    },
    "tags": []
   },
   "source": [
    "In the examples below we will change the configuration multiple times. First we ensure all the changes are temporary and no options are saved into the configuration file. We also reset the configuration to the defaults."
   ]
  },
  {
   "cell_type": "code",
   "execution_count": 2,
   "id": "71214b97-2b64-442d-bd23-98f831b064d0",
   "metadata": {
    "editable": true,
    "slideshow": {
     "slide_type": ""
    },
    "tags": []
   },
   "outputs": [],
   "source": [
    "config.autosave = False\n",
    "config.reset()"
   ]
  },
  {
   "cell_type": "markdown",
   "id": "df5b047f-a34e-4a70-82d7-b7bb1fcc2fc2",
   "metadata": {
    "editable": true,
    "slideshow": {
     "slide_type": ""
    },
    "tags": []
   },
   "source": [
    "#### User defined cache directory (default)"
   ]
  },
  {
   "attachments": {},
   "cell_type": "raw",
   "id": "8c9988a4-5760-456b-9b72-d3eecb955d7d",
   "metadata": {
    "editable": true,
    "raw_mimetype": "text/restructuredtext",
    "slideshow": {
     "slide_type": ""
    },
    "tags": []
   },
   "source": [
    "The primary key to control the cache in the configuration is :ref:`cache-policy <cache_policies>`. The default value is :ref:`\"user\" <user_cache_policy>`, which means that the cache location is defined by the :ref:`user-cache-directory <user_cache_policy>` config option. By default it is set to ``\"~/.cache/earthkit-regrid\"``. \n",
    "\n",
    "The user cache directory is **not cleaned up on exit**. So next time you start earthkit-regrid it will be there again unless it is deleted manually or it is set in way that on each startup a different path is assigned to it. Also, when you run multiple sessions of earthkit-regrid under the same user they will share the same cache. "
   ]
  },
  {
   "attachments": {},
   "cell_type": "markdown",
   "id": "da6e1e1c-c248-4301-ab89-fea50b73bf57",
   "metadata": {
    "editable": true,
    "slideshow": {
     "slide_type": ""
    },
    "tags": []
   },
   "source": [
    "The configuration tells us all the details about the cache policy and location:"
   ]
  },
  {
   "cell_type": "code",
   "execution_count": 4,
   "id": "4c2afb82-c630-451f-88e5-f80c8aa404ac",
   "metadata": {
    "editable": true,
    "slideshow": {
     "slide_type": ""
    },
    "tags": []
   },
   "outputs": [
    {
     "name": "stdout",
     "output_type": "stream",
     "text": [
      "user\n",
      "/Users/cgr/.cache/earthkit-regrid\n"
     ]
    }
   ],
   "source": [
    "config.set(\"cache-policy\", \"user\")\n",
    "print(config.get(\"cache-policy\"))\n",
    "print(config.get(\"user-cache-directory\"))"
   ]
  },
  {
   "cell_type": "raw",
   "id": "743bb32a-f1bf-4b1d-94e9-f8a17516b19a",
   "metadata": {
    "editable": true,
    "raw_mimetype": "text/restructuredtext",
    "slideshow": {
     "slide_type": ""
    },
    "tags": []
   },
   "source": [
    "The path to the current cache directory can also be queried through the :ref:`cache object <cache_object>`:"
   ]
  },
  {
   "cell_type": "code",
   "execution_count": 5,
   "id": "44583d41-f1d3-4c28-8af5-90d659cdae31",
   "metadata": {
    "editable": true,
    "slideshow": {
     "slide_type": ""
    },
    "tags": []
   },
   "outputs": [
    {
     "data": {
      "text/plain": [
       "'/Users/cgr/.cache/earthkit-regrid'"
      ]
     },
     "execution_count": 5,
     "metadata": {},
     "output_type": "execute_result"
    }
   ],
   "source": [
    "cache.directory()"
   ]
  },
  {
   "cell_type": "markdown",
   "id": "f6665b3b-5176-4161-9671-b20eb3bcc483",
   "metadata": {
    "editable": true,
    "slideshow": {
     "slide_type": ""
    },
    "tags": []
   },
   "source": [
    "We are free to change the user cache directory to another path:"
   ]
  },
  {
   "cell_type": "code",
   "execution_count": 6,
   "id": "ea59e447-084e-4bf4-8635-744c769a92e2",
   "metadata": {},
   "outputs": [
    {
     "data": {
      "text/plain": [
       "'/Users/cgr/.cache/earthkit-regrid'"
      ]
     },
     "execution_count": 6,
     "metadata": {},
     "output_type": "execute_result"
    }
   ],
   "source": [
    "config.set(\"user-cache-directory\", \"~/earthkit-regrid-demo-cache\")\n",
    "cache.directory()"
   ]
  },
  {
   "cell_type": "markdown",
   "id": "8d0ede62-77d4-4914-86c8-12bc6846d16a",
   "metadata": {
    "editable": true,
    "slideshow": {
     "slide_type": ""
    },
    "tags": []
   },
   "source": [
    "#### Temporary cache directory"
   ]
  },
  {
   "attachments": {},
   "cell_type": "raw",
   "id": "943e6bcc-6110-4930-a346-194a28731123",
   "metadata": {
    "editable": true,
    "raw_mimetype": "text/restructuredtext",
    "slideshow": {
     "slide_type": ""
    },
    "tags": []
   },
   "source": [
    "When the :ref:`cache-policy <cache_policies>` is :ref:`\"temporary\" <temporary_cache_policy>` the cache will be located in a temporary directory created by *tempfile.TemporaryDirectory*. This directory will be **unique** for each earthkit-regrid session. When the directory object goes out of scope (at the latest on exit) the cache is **cleaned up**."
   ]
  },
  {
   "cell_type": "code",
   "execution_count": 7,
   "id": "36aa1fad-2594-4a43-b115-60ac0e602a9a",
   "metadata": {
    "editable": true,
    "slideshow": {
     "slide_type": ""
    },
    "tags": []
   },
   "outputs": [
    {
     "name": "stdout",
     "output_type": "stream",
     "text": [
      "temporary\n"
     ]
    }
   ],
   "source": [
    "config.set(\"cache-policy\", \"temporary\")\n",
    "print(config.get(\"cache-policy\"))"
   ]
  },
  {
   "cell_type": "raw",
   "id": "808e10da-a8ff-4757-88ce-b408e423cd50",
   "metadata": {
    "editable": true,
    "raw_mimetype": "text/restructuredtext",
    "slideshow": {
     "slide_type": ""
    },
    "tags": []
   },
   "source": [
    "The path to the cache directory has to be queried through the :ref:`cache object <cache_object>`:"
   ]
  },
  {
   "cell_type": "code",
   "execution_count": 8,
   "id": "df3dd753-7f61-40c9-986f-5cfca5e4713e",
   "metadata": {
    "editable": true,
    "slideshow": {
     "slide_type": ""
    },
    "tags": []
   },
   "outputs": [
    {
     "data": {
      "text/plain": [
       "'/Users/cgr/.cache/earthkit-regrid'"
      ]
     },
     "execution_count": 8,
     "metadata": {},
     "output_type": "execute_result"
    }
   ],
   "source": [
    "cache.directory()"
   ]
  },
  {
   "attachments": {},
   "cell_type": "raw",
   "id": "cd723cc6-204e-4114-9567-f7f5dd4d169e",
   "metadata": {
    "editable": true,
    "raw_mimetype": "text/restructuredtext",
    "slideshow": {
     "slide_type": ""
    },
    "tags": []
   },
   "source": [
    "We can specify the parent directory for the the temporary cache by using the :ref:`temporary-cache-directory-root <temporary_cache_policy>` config option. By default it is set to None (no parent directory specified)."
   ]
  },
  {
   "cell_type": "code",
   "execution_count": 9,
   "id": "7b057350-7fed-4204-b825-e782f93883b6",
   "metadata": {
    "editable": true,
    "scrolled": true,
    "slideshow": {
     "slide_type": ""
    },
    "tags": []
   },
   "outputs": [
    {
     "data": {
      "text/plain": [
       "'/Users/cgr/.cache/earthkit-regrid'"
      ]
     },
     "execution_count": 9,
     "metadata": {},
     "output_type": "execute_result"
    }
   ],
   "source": [
    "s = {\"cache-policy\": \"temporary\", \n",
    "     \"temporary-cache-directory-root\": \"~/my_demo_regrid_cache\"}\n",
    "config.set(s)\n",
    "cache.directory()"
   ]
  },
  {
   "cell_type": "markdown",
   "id": "e0df8e80-7dec-4bcf-8a72-09bce1d0983a",
   "metadata": {
    "editable": true,
    "slideshow": {
     "slide_type": ""
    },
    "tags": []
   },
   "source": [
    "#### No caching"
   ]
  },
  {
   "cell_type": "raw",
   "id": "f77edd13-6ffc-44e6-9d2a-0c29d914e028",
   "metadata": {
    "editable": true,
    "raw_mimetype": "text/restructuredtext",
    "slideshow": {
     "slide_type": ""
    },
    "tags": []
   },
   "source": [
    "When the :ref:`cache-policy <cache_policies>` is :ref:`\"off\" <off_cache_policy>` no disk based caching is available. \n",
    "\n",
    "In this case all files are downloaded into an **unmanaged** temporary directory created by *tempfile.TemporaryDirectory*. Since caching is disabled all calls to :func:`from_iterpolate` for remote services and URLSs will download the data again! This temporary directory will be unique for each earthkit-regrid session. When the directory object goes out of scope (at the latest on exit) the directory will be **cleaned up**. "
   ]
  },
  {
   "cell_type": "code",
   "execution_count": null,
   "id": "aaf1ab3b-2e62-4598-8bbc-323476be5844",
   "metadata": {
    "editable": true,
    "slideshow": {
     "slide_type": ""
    },
    "tags": []
   },
   "outputs": [],
   "source": [
    "config.set(\"cache-policy\", \"off\")\n",
    "print(config.get(\"cache-policy\"))"
   ]
  },
  {
   "cell_type": "raw",
   "id": "d289ec22-a153-45ad-b29d-2c1d4780b7f2",
   "metadata": {
    "editable": true,
    "raw_mimetype": "text/restructuredtext",
    "slideshow": {
     "slide_type": ""
    },
    "tags": []
   },
   "source": [
    "The path to the temporary directory has to be queried through the :ref:`cache object <cache_object>`:"
   ]
  },
  {
   "cell_type": "code",
   "execution_count": null,
   "id": "3e219366-2ba7-479b-b4b3-8a097dd24bda",
   "metadata": {
    "editable": true,
    "slideshow": {
     "slide_type": ""
    },
    "tags": []
   },
   "outputs": [],
   "source": [
    "cache.directory()"
   ]
  },
  {
   "cell_type": "raw",
   "id": "7ce6fb62-6da5-4047-a6ea-ce8597fd6b1f",
   "metadata": {
    "editable": true,
    "raw_mimetype": "text/restructuredtext",
    "slideshow": {
     "slide_type": ""
    },
    "tags": []
   },
   "source": [
    "We can specify the parent directory for the temporary directory by using the :ref:`temporary-directory-root <off_cache_policy>` config option. By default it is set to None (no parent directory specified)."
   ]
  },
  {
   "cell_type": "code",
   "execution_count": null,
   "id": "36b04aa0-f925-4754-bb0e-b0a539950197",
   "metadata": {
    "editable": true,
    "slideshow": {
     "slide_type": ""
    },
    "tags": []
   },
   "outputs": [],
   "source": [
    "s = {\"cache-policy\": \"off\", \n",
    "     \"temporary-directory-root\": \"~/my_demo_regrid_tmp\"}\n",
    "config.set(s)\n",
    "cache.directory()"
   ]
  },
  {
   "cell_type": "code",
   "execution_count": null,
   "id": "0e18b9b0-4234-4f79-8f1b-6e9087052d33",
   "metadata": {
    "editable": true,
    "slideshow": {
     "slide_type": ""
    },
    "tags": []
   },
   "outputs": [],
   "source": []
  }
 ],
 "metadata": {
  "kernelspec": {
   "display_name": "dev_ecc",
   "language": "python",
   "name": "dev_ecc"
  },
  "language_info": {
   "codemirror_mode": {
    "name": "ipython",
    "version": 3
   },
   "file_extension": ".py",
   "mimetype": "text/x-python",
   "name": "python",
   "nbconvert_exporter": "python",
   "pygments_lexer": "ipython3",
   "version": "3.10.13"
  }
 },
 "nbformat": 4,
 "nbformat_minor": 5
}
