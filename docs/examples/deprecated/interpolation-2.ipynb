{
 "cells": [
  {
   "cell_type": "markdown",
   "id": "44a202c1-ec83-4d8b-b232-6f69d7d55ace",
   "metadata": {},
   "source": [
    "# Interpolating octahedral GRIB fields"
   ]
  },
  {
   "cell_type": "code",
   "execution_count": 12,
   "id": "5854d65c-ef1e-4c99-8c09-fa8e7612f399",
   "metadata": {},
   "outputs": [],
   "source": [
    "from earthkit.regrid import interpolate\n",
    "from earthkit.data import from_source"
   ]
  },
  {
   "cell_type": "markdown",
   "id": "de55e418-ffa0-4609-b6dc-a9b23ebe77b8",
   "metadata": {},
   "source": [
    "Get GRIB data on a global octahedral reduced gaussian grid grid."
   ]
  },
  {
   "cell_type": "code",
   "execution_count": 13,
   "id": "a71db0be-2233-4133-b03f-9219dc84e3f3",
   "metadata": {
    "editable": true,
    "slideshow": {
     "slide_type": ""
    },
    "tags": []
   },
   "outputs": [
    {
     "name": "stderr",
     "output_type": "stream",
     "text": [
      "                                                                                                                                                                                        \r"
     ]
    },
    {
     "data": {
      "text/plain": [
       "(5248,)"
      ]
     },
     "execution_count": 13,
     "metadata": {},
     "output_type": "execute_result"
    }
   ],
   "source": [
    "ds = from_source(\"url\", \n",
    "                 \"https://get.ecmwf.int/repository/test-data/earthkit-regrid/examples/O32_multi.grib\")\n",
    "\n",
    "lat_src, lon_src, v_src = ds[0].data()\n",
    "v_src.shape"
   ]
  },
  {
   "cell_type": "code",
   "execution_count": 14,
   "id": "98791637-e6e7-415c-870d-4711a303c7bb",
   "metadata": {},
   "outputs": [
    {
     "data": {
      "text/plain": [
       "['reduced_gg', 1, 32]"
      ]
     },
     "execution_count": 14,
     "metadata": {},
     "output_type": "execute_result"
    }
   ],
   "source": [
    "ds[0].metadata([\"gridType\", \"isOctahedral\", \"N\"])"
   ]
  },
  {
   "cell_type": "raw",
   "id": "c1a951b8-f550-45f1-aef4-3bed884a7bdf",
   "metadata": {
    "editable": true,
    "raw_mimetype": "text/restructuredtext",
    "slideshow": {
     "slide_type": ""
    },
    "tags": []
   },
   "source": [
    "Interpolate the values of the first field onto a 1x1 degree global regular latitude-longitude grid. The input and output grids are defined by a :ref:`gridspec <gridspec>`. Both the input and the ouput values are numpy arrays."
   ]
  },
  {
   "cell_type": "code",
   "execution_count": 15,
   "id": "24ccc6b5-90c2-4e4d-8175-677c5d0f12ed",
   "metadata": {
    "editable": true,
    "slideshow": {
     "slide_type": ""
    },
    "tags": []
   },
   "outputs": [
    {
     "data": {
      "text/plain": [
       "(181, 360)"
      ]
     },
     "execution_count": 15,
     "metadata": {},
     "output_type": "execute_result"
    }
   ],
   "source": [
    "v = interpolate(v_src, {\"grid\": \"O32\"}, {\"grid\": [1,1]}) \n",
    "v.shape"
   ]
  },
  {
   "cell_type": "markdown",
   "id": "b91238ec-13b4-40c7-88c3-b703f311743d",
   "metadata": {},
   "source": [
    "We use a custom method to generate the output latitudes and longitudes."
   ]
  },
  {
   "cell_type": "code",
   "execution_count": 16,
   "id": "067c85d4-a027-4e9a-a8a6-5ab8c4a0ea1c",
   "metadata": {},
   "outputs": [],
   "source": [
    "def make_lat_lon(dx):\n",
    "    import numpy as np\n",
    "    \n",
    "    lat_v = np.linspace(90, -90, int(180/dx)+1)\n",
    "    lon_v = np.linspace(0, 360-dx, int(360/dx))\n",
    "    lon, lat = np.meshgrid(lon_v, lat_v)\n",
    "    return lat, lon"
   ]
  },
  {
   "cell_type": "markdown",
   "id": "3c5f0945-c21b-4e6c-af1f-6a6accd05b66",
   "metadata": {},
   "source": [
    "Plot the resulting data."
   ]
  },
  {
   "cell_type": "code",
   "execution_count": 17,
   "id": "a229a39a-7e5b-40d0-9a25-12517c032256",
   "metadata": {},
   "outputs": [
    {
     "data": {
      "text/plain": [
       "((181, 360), (181, 360))"
      ]
     },
     "execution_count": 17,
     "metadata": {},
     "output_type": "execute_result"
    }
   ],
   "source": [
    "lat, lon = make_lat_lon(1)\n",
    "lat.shape, lon.shape"
   ]
  },
  {
   "cell_type": "code",
   "execution_count": 18,
   "id": "61dc893f-ca92-479b-ad2a-c17da7fff5b9",
   "metadata": {
    "editable": true,
    "slideshow": {
     "slide_type": ""
    },
    "tags": []
   },
   "outputs": [
    {
     "data": {
      "text/plain": [
       "(80.0, 10.0, 253.03412697190203)"
      ]
     },
     "execution_count": 18,
     "metadata": {},
     "output_type": "execute_result"
    }
   ],
   "source": [
    "lat[10,10], lon[10,10], v[10,10]"
   ]
  },
  {
   "cell_type": "code",
   "execution_count": null,
   "id": "5c6be9e3-894c-4153-9e35-797d464f5750",
   "metadata": {},
   "outputs": [],
   "source": []
  }
 ],
 "metadata": {
  "kernelspec": {
   "display_name": "dev_ecc",
   "language": "python",
   "name": "dev_ecc"
  },
  "language_info": {
   "codemirror_mode": {
    "name": "ipython",
    "version": 3
   },
   "file_extension": ".py",
   "mimetype": "text/x-python",
   "name": "python",
   "nbconvert_exporter": "python",
   "pygments_lexer": "ipython3",
   "version": "3.10.13"
  }
 },
 "nbformat": 4,
 "nbformat_minor": 5
}
