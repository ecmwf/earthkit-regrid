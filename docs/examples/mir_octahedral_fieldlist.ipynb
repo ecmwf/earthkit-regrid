{
 "cells": [
  {
   "cell_type": "markdown",
   "id": "27b6be13-d0a5-41e1-9479-f1028b01610f",
   "metadata": {
    "editable": true,
    "slideshow": {
     "slide_type": ""
    },
    "tags": []
   },
   "source": [
    "## MIR: regridding octahedral GRIB fieldlist"
   ]
  },
  {
   "cell_type": "raw",
   "id": "1f8af122-f127-437b-bf14-e867acdce44d",
   "metadata": {
    "editable": true,
    "raw_mimetype": "text/restructuredtext",
    "slideshow": {
     "slide_type": ""
    },
    "tags": []
   },
   "source": [
    "This example shows how to interpolate GRIB data defined on an octahedral reduced Gaussian grid using the :ref:`mir <mir-regrid>` backend. We will also see how to inspect and plot the resulting data and how to convert it to xarray.\n",
    "\n",
    "To make this notebook work :xref:`earthkit-data` and :xref:`earthkit-plots` have to be installed. The data will be represented as an `earthkit-data GRIB FieldList <https://earthkit-data.readthedocs.io/en/latest/guide/data_format/grib.html>`_."
   ]
  },
  {
   "cell_type": "markdown",
   "id": "630902ad-c821-47b4-9140-f04cc9a53976",
   "metadata": {
    "editable": true,
    "slideshow": {
     "slide_type": ""
    },
    "tags": []
   },
   "source": [
    "#### Interpolation"
   ]
  },
  {
   "cell_type": "code",
   "execution_count": 1,
   "id": "8c1cff92-971e-4494-b847-b2df7e7ee53c",
   "metadata": {},
   "outputs": [
    {
     "data": {
      "application/vnd.jupyter.widget-view+json": {
       "model_id": "65d545ba009742ffaf6c13d56dafbf8b",
       "version_major": 2,
       "version_minor": 0
      },
      "text/plain": [
       "O32_t2.grib2:   0%|          | 0.00/31.4k [00:00<?, ?B/s]"
      ]
     },
     "metadata": {},
     "output_type": "display_data"
    },
    {
     "ename": "ImportError",
     "evalue": "dlopen(/opt/homebrew/Caskroom/miniforge/base/envs/dev/lib/python3.11/site-packages/_mir.cpython-311-darwin.so, 0x0002): Library not loaded: @rpath/libmir.dylib\n  Referenced from: <C53F01AD-26D0-313F-9E9B-5295FDEC25EB> /opt/homebrew/Caskroom/miniforge/base/envs/dev/lib/python3.11/site-packages/_mir.cpython-311-darwin.so\n  Reason: tried: '.venv/lib/python3.11/site-packages/eckitlib/lib/libmir.dylib' (no such file), '.venv/lib/python3.11/site-packages/eccodeslib/lib/libmir.dylib' (no such file), '.venv/lib/python3.11/site-packages/mirlib/lib/libmir.dylib' (no such file), '.venv/lib/python3.11/site-packages/eckitlib/lib/libmir.dylib' (no such file), '.venv/lib/python3.11/site-packages/eccodeslib/lib/libmir.dylib' (no such file), '.venv/lib/python3.11/site-packages/mirlib/lib/libmir.dylib' (no such file), '/opt/homebrew/Caskroom/miniforge/base/envs/dev/bin/../lib/libmir.dylib' (no such file), '/opt/homebrew/Caskroom/miniforge/base/envs/dev/bin/../lib/libmir.dylib' (no such file), '/usr/local/lib/libmir.dylib' (no such file), '/usr/lib/libmir.dylib' (no such file, not in dyld cache)",
     "output_type": "error",
     "traceback": [
      "\u001b[31m---------------------------------------------------------------------------\u001b[39m",
      "\u001b[31mImportError\u001b[39m                               Traceback (most recent call last)",
      "\u001b[36mCell\u001b[39m\u001b[36m \u001b[39m\u001b[32mIn[1]\u001b[39m\u001b[32m, line 12\u001b[39m\n\u001b[32m      8\u001b[39m out_grid = {\u001b[33m\"\u001b[39m\u001b[33mgrid\u001b[39m\u001b[33m\"\u001b[39m: [\u001b[32m5\u001b[39m,\u001b[32m5\u001b[39m]}\n\u001b[32m     10\u001b[39m \u001b[38;5;66;03m# perform interpolation for each field and add results \u001b[39;00m\n\u001b[32m     11\u001b[39m \u001b[38;5;66;03m# to a new fieldlist stored in memory\u001b[39;00m\n\u001b[32m---> \u001b[39m\u001b[32m12\u001b[39m r = \u001b[43mregrid\u001b[49m\u001b[43m(\u001b[49m\u001b[43mds\u001b[49m\u001b[43m,\u001b[49m\u001b[43m \u001b[49m\u001b[43mout_grid\u001b[49m\u001b[43m=\u001b[49m\u001b[43mout_grid\u001b[49m\u001b[43m,\u001b[49m\u001b[43m \u001b[49m\u001b[43minterpolation\u001b[49m\u001b[43m=\u001b[49m\u001b[33;43m\"\u001b[39;49m\u001b[33;43mlinear\u001b[39;49m\u001b[33;43m\"\u001b[39;49m\u001b[43m)\u001b[49m\n\u001b[32m     14\u001b[39m d = r.data()\n\u001b[32m     15\u001b[39m lat = d[\u001b[32m0\u001b[39m]\n",
      "\u001b[36mFile \u001b[39m\u001b[32m~/git/earthkit-regrid/src/earthkit/regrid/regrid.py:19\u001b[39m, in \u001b[36mregrid\u001b[39m\u001b[34m(values, in_grid, out_grid, interpolation, backend, **kwargs)\u001b[39m\n\u001b[32m     16\u001b[39m     \u001b[38;5;28;01mraise\u001b[39;00m \u001b[38;5;167;01mValueError\u001b[39;00m(\u001b[33mf\u001b[39m\u001b[33m\"\u001b[39m\u001b[33mCannot regrid data with type=\u001b[39m\u001b[38;5;132;01m{\u001b[39;00m\u001b[38;5;28mtype\u001b[39m(values)\u001b[38;5;132;01m}\u001b[39;00m\u001b[33m\"\u001b[39m)\n\u001b[32m     18\u001b[39m kwargs = kwargs.copy()\n\u001b[32m---> \u001b[39m\u001b[32m19\u001b[39m \u001b[38;5;28;01mreturn\u001b[39;00m \u001b[43mh\u001b[49m\u001b[43m.\u001b[49m\u001b[43mregrid\u001b[49m\u001b[43m(\u001b[49m\n\u001b[32m     20\u001b[39m \u001b[43m    \u001b[49m\u001b[43mvalues\u001b[49m\u001b[43m,\u001b[49m\u001b[43m \u001b[49m\u001b[43min_grid\u001b[49m\u001b[43m=\u001b[49m\u001b[43min_grid\u001b[49m\u001b[43m,\u001b[49m\u001b[43m \u001b[49m\u001b[43mout_grid\u001b[49m\u001b[43m=\u001b[49m\u001b[43mout_grid\u001b[49m\u001b[43m,\u001b[49m\u001b[43m \u001b[49m\u001b[43minterpolation\u001b[49m\u001b[43m=\u001b[49m\u001b[43minterpolation\u001b[49m\u001b[43m,\u001b[49m\u001b[43m \u001b[49m\u001b[43mbackend\u001b[49m\u001b[43m=\u001b[49m\u001b[43mbackend\u001b[49m\u001b[43m,\u001b[49m\u001b[43m \u001b[49m\u001b[43m*\u001b[49m\u001b[43m*\u001b[49m\u001b[43mkwargs\u001b[49m\n\u001b[32m     21\u001b[39m \u001b[43m\u001b[49m\u001b[43m)\u001b[49m\n",
      "\u001b[36mFile \u001b[39m\u001b[32m~/git/earthkit-regrid/src/earthkit/regrid/data.py:91\u001b[39m, in \u001b[36mFieldListDataHandler.regrid\u001b[39m\u001b[34m(self, values, **kwargs)\u001b[39m\n\u001b[32m     87\u001b[39m backend = \u001b[38;5;28mself\u001b[39m.backend_from_kwargs(kwargs)\n\u001b[32m     89\u001b[39m \u001b[38;5;28;01mif\u001b[39;00m \u001b[38;5;28mhasattr\u001b[39m(backend, \u001b[33m\"\u001b[39m\u001b[33mregrid_grib\u001b[39m\u001b[33m\"\u001b[39m):\n\u001b[32m     90\u001b[39m     \u001b[38;5;66;03m# TODO: remove this when ecCodes supports setting the gridSpec on a GRIB handle\u001b[39;00m\n\u001b[32m---> \u001b[39m\u001b[32m91\u001b[39m     \u001b[38;5;28;01mreturn\u001b[39;00m \u001b[38;5;28;43mself\u001b[39;49m\u001b[43m.\u001b[49m\u001b[43m_regrid_grib\u001b[49m\u001b[43m(\u001b[49m\u001b[43mvalues\u001b[49m\u001b[43m,\u001b[49m\u001b[43m \u001b[49m\u001b[43mbackend\u001b[49m\u001b[43m,\u001b[49m\u001b[43m \u001b[49m\u001b[43m*\u001b[49m\u001b[43m*\u001b[49m\u001b[43mkwargs\u001b[49m\u001b[43m)\u001b[49m\n\u001b[32m     92\u001b[39m \u001b[38;5;28;01melse\u001b[39;00m:\n\u001b[32m     93\u001b[39m     \u001b[38;5;28;01mreturn\u001b[39;00m \u001b[38;5;28mself\u001b[39m._regrid_array(values, backend, **kwargs)\n",
      "\u001b[36mFile \u001b[39m\u001b[32m~/git/earthkit-regrid/src/earthkit/regrid/data.py:153\u001b[39m, in \u001b[36mFieldListDataHandler._regrid_grib\u001b[39m\u001b[34m(self, values, backend, **kwargs)\u001b[39m\n\u001b[32m    150\u001b[39m     \u001b[38;5;28;01melse\u001b[39;00m:\n\u001b[32m    151\u001b[39m         \u001b[38;5;28;01mraise\u001b[39;00m \u001b[38;5;167;01mValueError\u001b[39;00m(\u001b[33mf\u001b[39m\u001b[33m\"\u001b[39m\u001b[33mfield type=\u001b[39m\u001b[38;5;132;01m{\u001b[39;00m\u001b[38;5;28mtype\u001b[39m(f)\u001b[38;5;132;01m}\u001b[39;00m\u001b[33m is not supported in regrid!\u001b[39m\u001b[33m\"\u001b[39m)\n\u001b[32m--> \u001b[39m\u001b[32m153\u001b[39m     v_res = \u001b[43mbackend\u001b[49m\u001b[43m.\u001b[49m\u001b[43mregrid_grib\u001b[49m\u001b[43m(\u001b[49m\u001b[43mmessage\u001b[49m\u001b[43m,\u001b[49m\u001b[43m \u001b[49m\u001b[43mout_grid\u001b[49m\u001b[43m,\u001b[49m\u001b[43m \u001b[49m\u001b[43m*\u001b[49m\u001b[43m*\u001b[49m\u001b[43mkwargs\u001b[49m\u001b[43m)\u001b[49m\n\u001b[32m    154\u001b[39m     r.append(GribFieldInMemory.from_buffer(v_res.getvalue()))\n\u001b[32m    156\u001b[39m \u001b[38;5;28;01mreturn\u001b[39;00m ds.from_fields(r)\n",
      "\u001b[36mFile \u001b[39m\u001b[32m~/git/earthkit-regrid/src/earthkit/regrid/backends/mir.py:42\u001b[39m, in \u001b[36mMirBackend.regrid_grib\u001b[39m\u001b[34m(self, message, out_grid, **kwargs)\u001b[39m\n\u001b[32m     39\u001b[39m \u001b[38;5;28;01mdef\u001b[39;00m \u001b[34mregrid_grib\u001b[39m(\u001b[38;5;28mself\u001b[39m, message, out_grid, **kwargs):\n\u001b[32m     40\u001b[39m     \u001b[38;5;28;01mfrom\u001b[39;00m \u001b[34;01mio\u001b[39;00m \u001b[38;5;28;01mimport\u001b[39;00m BytesIO\n\u001b[32m---> \u001b[39m\u001b[32m42\u001b[39m     \u001b[38;5;28;01mimport\u001b[39;00m \u001b[34;01mmir\u001b[39;00m\n\u001b[32m     44\u001b[39m     in_data = mir.GribMemoryInput(message.getvalue())\n\u001b[32m     45\u001b[39m     out = BytesIO()\n",
      "\u001b[36mFile \u001b[39m\u001b[32m/opt/homebrew/Caskroom/miniforge/base/envs/dev/lib/python3.11/site-packages/mir/__init__.py:18\u001b[39m\n\u001b[32m     15\u001b[39m CDLL(m)\n\u001b[32m     17\u001b[39m \u001b[38;5;66;03m# import mir-python itself\u001b[39;00m\n\u001b[32m---> \u001b[39m\u001b[32m18\u001b[39m \u001b[38;5;28;01mfrom\u001b[39;00m \u001b[34;01m_mir\u001b[39;00m \u001b[38;5;28;01mimport\u001b[39;00m *\n",
      "\u001b[31mImportError\u001b[39m: dlopen(/opt/homebrew/Caskroom/miniforge/base/envs/dev/lib/python3.11/site-packages/_mir.cpython-311-darwin.so, 0x0002): Library not loaded: @rpath/libmir.dylib\n  Referenced from: <C53F01AD-26D0-313F-9E9B-5295FDEC25EB> /opt/homebrew/Caskroom/miniforge/base/envs/dev/lib/python3.11/site-packages/_mir.cpython-311-darwin.so\n  Reason: tried: '.venv/lib/python3.11/site-packages/eckitlib/lib/libmir.dylib' (no such file), '.venv/lib/python3.11/site-packages/eccodeslib/lib/libmir.dylib' (no such file), '.venv/lib/python3.11/site-packages/mirlib/lib/libmir.dylib' (no such file), '.venv/lib/python3.11/site-packages/eckitlib/lib/libmir.dylib' (no such file), '.venv/lib/python3.11/site-packages/eccodeslib/lib/libmir.dylib' (no such file), '.venv/lib/python3.11/site-packages/mirlib/lib/libmir.dylib' (no such file), '/opt/homebrew/Caskroom/miniforge/base/envs/dev/bin/../lib/libmir.dylib' (no such file), '/opt/homebrew/Caskroom/miniforge/base/envs/dev/bin/../lib/libmir.dylib' (no such file), '/usr/local/lib/libmir.dylib' (no such file), '/usr/lib/libmir.dylib' (no such file, not in dyld cache)"
     ]
    }
   ],
   "source": [
    "from earthkit.regrid import regrid\n",
    "import earthkit.data as ekd\n",
    "\n",
    "# Get octahedral reduced Gaussian GRIB data containing two fields.\n",
    "ds = ekd.from_source(\"sample\", \"O32_t2.grib2\")\n",
    "\n",
    "# the target grid is a global 5x5 degree regular latitude-longitude grid\n",
    "out_grid = {\"grid\": [5,5]}\n",
    "\n",
    "# perform interpolation for each field and add results \n",
    "# to a new fieldlist stored in memory\n",
    "r = regrid(ds, out_grid=out_grid, interpolation=\"linear\")\n",
    "\n",
    "d = r.data()\n",
    "lat = d[0]\n",
    "lon = d[1]\n",
    "vals = d[2:]\n",
    "lat.shape, lon.shape, vals.shape"
   ]
  },
  {
   "cell_type": "code",
   "execution_count": null,
   "id": "f2ce1d60-0d06-40ba-9c45-e716467972c3",
   "metadata": {},
   "outputs": [],
   "source": [
    "lat[:3, 0], lon[:3, 0], vals[0, :3, 0]"
   ]
  },
  {
   "cell_type": "markdown",
   "id": "42eadd3a-1d4a-46c4-a34a-9fbf8ba15f88",
   "metadata": {},
   "source": [
    "#### Plotting the results"
   ]
  },
  {
   "cell_type": "raw",
   "id": "f3bd0750-2bc5-4abd-9066-c7e9de5172af",
   "metadata": {
    "editable": true,
    "raw_mimetype": "text/restructuredtext",
    "slideshow": {
     "slide_type": ""
    },
    "tags": []
   },
   "source": [
    "We use :xref:`earthkit-plots` to visualise the results."
   ]
  },
  {
   "cell_type": "code",
   "execution_count": null,
   "id": "91b54b7a-a8dc-4699-b60b-8923231f451a",
   "metadata": {
    "editable": true,
    "slideshow": {
     "slide_type": ""
    },
    "tags": []
   },
   "outputs": [],
   "source": [
    "import earthkit.plots as ekp\n",
    "\n",
    "ekp.quickplot(r).show()"
   ]
  },
  {
   "cell_type": "markdown",
   "id": "2d465f73-7848-49b5-adc3-697a68760520",
   "metadata": {},
   "source": [
    "#### Converting the results to xarray"
   ]
  },
  {
   "cell_type": "code",
   "execution_count": null,
   "id": "44543f10-44df-4e35-b5a3-33a7a4240b13",
   "metadata": {},
   "outputs": [],
   "source": [
    "r.to_xarray()"
   ]
  },
  {
   "cell_type": "markdown",
   "id": "97c2e3e3-6deb-4df0-a498-168643b1e70e",
   "metadata": {},
   "source": [
    "#### Writing the results to disk"
   ]
  },
  {
   "cell_type": "markdown",
   "id": "ed089b30-03f7-430a-9f41-17520d5206cd",
   "metadata": {},
   "source": [
    "Write the resulting fieldlist to disk:"
   ]
  },
  {
   "cell_type": "code",
   "execution_count": null,
   "id": "ad36951e-9118-46f2-933c-ce5b852341f0",
   "metadata": {},
   "outputs": [],
   "source": [
    "out_file = \"_res_O32_to_5x5.grib\"\n",
    "r.to_target(\"file\", out_file)"
   ]
  },
  {
   "cell_type": "code",
   "execution_count": null,
   "id": "28e76042-a0f0-4794-8a4b-d6594556b15f",
   "metadata": {},
   "outputs": [],
   "source": []
  }
 ],
 "metadata": {
  "kernelspec": {
   "display_name": "dev",
   "language": "python",
   "name": "dev"
  },
  "language_info": {
   "codemirror_mode": {
    "name": "ipython",
    "version": 3
   },
   "file_extension": ".py",
   "mimetype": "text/x-python",
   "name": "python",
   "nbconvert_exporter": "python",
   "pygments_lexer": "ipython3",
   "version": "3.11.12"
  }
 },
 "nbformat": 4,
 "nbformat_minor": 5
}
